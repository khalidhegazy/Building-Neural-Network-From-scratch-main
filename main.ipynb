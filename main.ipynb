{
 "cells": [
  {
   "cell_type": "code",
   "execution_count": 143,
   "metadata": {},
   "outputs": [],
   "source": [
    "import numpy as np "
   ]
  },
  {
   "cell_type": "code",
   "execution_count": 144,
   "metadata": {},
   "outputs": [],
   "source": [
    "X=np.array(([6,4],[6,5],[5,5],[4,4],[4,5],[3,4],[4,2],[1,1],[1,4],[1,6],[1,8],[3,7]), dtype=float)\n",
    "Y=np.array(([0],[0],[0],[0],[0],[0],[1],[1],[1],[1],[1],[1]), dtype=float)\n",
    "learn_rate=0.005"
   ]
  },
  {
   "cell_type": "code",
   "execution_count": 145,
   "metadata": {},
   "outputs": [],
   "source": [
    "def sigmoid(x):\n",
    "    return 1/(1+np.exp(-x))"
   ]
  },
  {
   "cell_type": "code",
   "execution_count": 146,
   "metadata": {},
   "outputs": [],
   "source": [
    "def sigmoid_derivative(s):\n",
    "    return s * (1 - s)"
   ]
  },
  {
   "cell_type": "code",
   "execution_count": 150,
   "metadata": {},
   "outputs": [],
   "source": [
    "class NeuralNetwork:\n",
    "    def __init__(self,x,y):\n",
    "        self.input = x\n",
    "        self.weights_i_h= np.random.rand(self.input.shape[1],4)\n",
    "        self.weights_h_o = np.random.rand(4,1)\n",
    "        self.y = y\n",
    "        self.output = np. zeros(y.shape)\n",
    "        \n",
    "    def forward_propagation(self):\n",
    "        self.layer1 = sigmoid(np.dot(self.input, self.weights_i_h))\n",
    "        self.layer2 = sigmoid(np.dot(self.layer1, self.weights_h_o))\n",
    "        return self.layer2\n",
    "        \n",
    "    def back_propagation(self):\n",
    "        delta_weights_h_o = np.dot(self.layer1.T, 2*(self.y -self.output)*sigmoid_derivative(self.output))\n",
    "        delta_weights_i_h = np.dot(self.input.T, np.dot(2*(self.y -self.output)*sigmoid_derivative(self.output), self.weights_h_o.T)*sigmoid_derivative(self.layer1))\n",
    "    \n",
    "        self.weights_i_h += learn_rate*delta_weights_i_h\n",
    "        self.weights_h_o += learn_rate*delta_weights_h_o\n",
    "\n",
    "    def train(self,x,y):\n",
    "        self.output = self.forward_propagation()\n",
    "        self.back_propagation()\n",
    "        \n",
    "    def predict(self, inputs):\n",
    "        inputs = inputs.astype(float)\n",
    "        self.layer1 = sigmoid(np.dot(inputs, self.weights_i_h))\n",
    "        self.layer2 = sigmoid(np.dot(self.layer1, self.weights_h_o))\n",
    "        return self.layer2"
   ]
  },
  {
   "cell_type": "code",
   "execution_count": 154,
   "metadata": {
    "scrolled": false
   },
   "outputs": [
    {
     "name": "stdout",
     "output_type": "stream",
     "text": [
      "Input : \n",
      "[[6. 4.]\n",
      " [6. 5.]\n",
      " [5. 5.]\n",
      " [4. 4.]\n",
      " [4. 5.]\n",
      " [3. 4.]\n",
      " [4. 2.]\n",
      " [1. 1.]\n",
      " [1. 4.]\n",
      " [1. 6.]\n",
      " [1. 8.]\n",
      " [3. 7.]]\n",
      "Actual Output: \n",
      "[[0.]\n",
      " [0.]\n",
      " [0.]\n",
      " [0.]\n",
      " [0.]\n",
      " [0.]\n",
      " [1.]\n",
      " [1.]\n",
      " [1.]\n",
      " [1.]\n",
      " [1.]\n",
      " [1.]]\n",
      "Predicted Output: \n",
      "[[0.50014344]\n",
      " [0.50127725]\n",
      " [0.50849489]\n",
      " [0.51523701]\n",
      " [0.51618355]\n",
      " [0.52374373]\n",
      " [0.51407568]\n",
      " [0.55022711]\n",
      " [0.54374244]\n",
      " [0.54276407]\n",
      " [0.54323281]\n",
      " [0.52628526]]\n",
      "MSE:0.23790893153069978\n"
     ]
    }
   ],
   "source": [
    "NN = NeuralNetwork(X,Y)\n",
    "for epoch in range(100): \n",
    "    NN.train(X,Y)\n",
    "print (\"Input : \\n\" + str(X))\n",
    "print (\"Actual Output: \\n\" + str(Y))\n",
    "print (\"Predicted Output: \\n\" + str(NN.forward_propagation()))\n",
    "print (\"MSE:\" + str(np.mean(np.square(Y - NN.forward_propagation()))))"
   ]
  },
  {
   "cell_type": "code",
   "execution_count": 155,
   "metadata": {},
   "outputs": [
    {
     "name": "stdout",
     "output_type": "stream",
     "text": [
      "X1: 5\n",
      "X2: 5\n",
      "New Index:  5 5\n",
      "Output: \n",
      "[0.50849489]\n"
     ]
    }
   ],
   "source": [
    "input_one = str(input(\"X1: \"))\n",
    "input_two = str(input(\"X2: \"))\n",
    "print(\"New Index: \",input_one,input_two)\n",
    "print(\"Output: \")\n",
    "print(NN.predict(np.array([input_one, input_two])))"
   ]
  },
  {
   "cell_type": "code",
   "execution_count": null,
   "metadata": {},
   "outputs": [],
   "source": []
  },
  {
   "cell_type": "code",
   "execution_count": null,
   "metadata": {},
   "outputs": [],
   "source": []
  }
 ],
 "metadata": {
  "kernelspec": {
   "display_name": "Python 3",
   "language": "python",
   "name": "python3"
  },
  "language_info": {
   "codemirror_mode": {
    "name": "ipython",
    "version": 3
   },
   "file_extension": ".py",
   "mimetype": "text/x-python",
   "name": "python",
   "nbconvert_exporter": "python",
   "pygments_lexer": "ipython3",
   "version": "3.8.5"
  }
 },
 "nbformat": 4,
 "nbformat_minor": 4
}
